{
 "cells": [
  {
   "cell_type": "code",
   "execution_count": 386,
   "metadata": {
    "scrolled": true,
    "slideshow": {
     "slide_type": "slide"
    }
   },
   "outputs": [
    {
     "data": {
      "text/html": [
       "<div>\n",
       "<style>\n",
       "    .dataframe thead tr:only-child th {\n",
       "        text-align: right;\n",
       "    }\n",
       "\n",
       "    .dataframe thead th {\n",
       "        text-align: left;\n",
       "    }\n",
       "\n",
       "    .dataframe tbody tr th {\n",
       "        vertical-align: top;\n",
       "    }\n",
       "</style>\n",
       "<table border=\"1\" class=\"dataframe\">\n",
       "  <thead>\n",
       "    <tr style=\"text-align: right;\">\n",
       "      <th></th>\n",
       "      <th>user</th>\n",
       "      <th>artist-mbid</th>\n",
       "      <th>artist-name</th>\n",
       "      <th>T_plays</th>\n",
       "    </tr>\n",
       "  </thead>\n",
       "  <tbody>\n",
       "    <tr>\n",
       "      <th>0</th>\n",
       "      <td>00000c289a1829a808ac09c00daf10bc3c4e223b</td>\n",
       "      <td>3bd73256-3905-4f3a-97e2-8b341527f805</td>\n",
       "      <td>betty blowtorch</td>\n",
       "      <td>2137</td>\n",
       "    </tr>\n",
       "    <tr>\n",
       "      <th>1</th>\n",
       "      <td>00000c289a1829a808ac09c00daf10bc3c4e223b</td>\n",
       "      <td>f2fb0ff0-5679-42ec-a55c-15109ce6e320</td>\n",
       "      <td>die Ärzte</td>\n",
       "      <td>1099</td>\n",
       "    </tr>\n",
       "    <tr>\n",
       "      <th>2</th>\n",
       "      <td>00000c289a1829a808ac09c00daf10bc3c4e223b</td>\n",
       "      <td>b3ae82c2-e60b-4551-a76d-6620f1b456aa</td>\n",
       "      <td>melissa etheridge</td>\n",
       "      <td>897</td>\n",
       "    </tr>\n",
       "    <tr>\n",
       "      <th>3</th>\n",
       "      <td>00000c289a1829a808ac09c00daf10bc3c4e223b</td>\n",
       "      <td>3d6bbeb7-f90e-4d10-b440-e153c0d10b53</td>\n",
       "      <td>elvenking</td>\n",
       "      <td>717</td>\n",
       "    </tr>\n",
       "    <tr>\n",
       "      <th>4</th>\n",
       "      <td>00000c289a1829a808ac09c00daf10bc3c4e223b</td>\n",
       "      <td>bbd2ffd7-17f4-4506-8572-c1ea58c3f9a8</td>\n",
       "      <td>juliette &amp; the licks</td>\n",
       "      <td>706</td>\n",
       "    </tr>\n",
       "  </tbody>\n",
       "</table>\n",
       "</div>"
      ],
      "text/plain": [
       "                                       user  \\\n",
       "0  00000c289a1829a808ac09c00daf10bc3c4e223b   \n",
       "1  00000c289a1829a808ac09c00daf10bc3c4e223b   \n",
       "2  00000c289a1829a808ac09c00daf10bc3c4e223b   \n",
       "3  00000c289a1829a808ac09c00daf10bc3c4e223b   \n",
       "4  00000c289a1829a808ac09c00daf10bc3c4e223b   \n",
       "\n",
       "                            artist-mbid           artist-name  T_plays  \n",
       "0  3bd73256-3905-4f3a-97e2-8b341527f805       betty blowtorch     2137  \n",
       "1  f2fb0ff0-5679-42ec-a55c-15109ce6e320             die Ärzte     1099  \n",
       "2  b3ae82c2-e60b-4551-a76d-6620f1b456aa     melissa etheridge      897  \n",
       "3  3d6bbeb7-f90e-4d10-b440-e153c0d10b53             elvenking      717  \n",
       "4  bbd2ffd7-17f4-4506-8572-c1ea58c3f9a8  juliette & the licks      706  "
      ]
     },
     "execution_count": 386,
     "metadata": {},
     "output_type": "execute_result"
    }
   ],
   "source": [
    "# загружаем данные\n",
    "from os import path, environ\n",
    "import pandas as pd\n",
    "import numpy as np\n",
    "\n",
    "data_dir = \"./lastfm-dataset-360K\"\n",
    "environ[\"DATA_DIR\"] = \"./lastfm-dataset-360K\"\n",
    "\n",
    "col_names = [\"user\", \"artist-mbid\", \"artist-name\", \"T_plays\"]\n",
    "data = pd.read_csv(\n",
    "    path.join(data_dir, \"lastfm_small.tsv\"),\n",
    "    sep=\"\\t\",\n",
    "    header=None,\n",
    "    names=col_names\n",
    ")\n",
    "\n",
    "data.head()"
   ]
  },
  {
   "cell_type": "code",
   "execution_count": 387,
   "metadata": {
    "slideshow": {
     "slide_type": "slide"
    }
   },
   "outputs": [
    {
     "data": {
      "text/html": [
       "<div>\n",
       "<style>\n",
       "    .dataframe thead tr:only-child th {\n",
       "        text-align: right;\n",
       "    }\n",
       "\n",
       "    .dataframe thead th {\n",
       "        text-align: left;\n",
       "    }\n",
       "\n",
       "    .dataframe tbody tr th {\n",
       "        vertical-align: top;\n",
       "    }\n",
       "</style>\n",
       "<table border=\"1\" class=\"dataframe\">\n",
       "  <thead>\n",
       "    <tr style=\"text-align: right;\">\n",
       "      <th></th>\n",
       "      <th>T_plays</th>\n",
       "      <th>user_id</th>\n",
       "      <th>artist_id</th>\n",
       "    </tr>\n",
       "  </thead>\n",
       "  <tbody>\n",
       "    <tr>\n",
       "      <th>0</th>\n",
       "      <td>2137</td>\n",
       "      <td>1</td>\n",
       "      <td>15531</td>\n",
       "    </tr>\n",
       "    <tr>\n",
       "      <th>1</th>\n",
       "      <td>1099</td>\n",
       "      <td>1</td>\n",
       "      <td>63469</td>\n",
       "    </tr>\n",
       "    <tr>\n",
       "      <th>2</th>\n",
       "      <td>897</td>\n",
       "      <td>1</td>\n",
       "      <td>46858</td>\n",
       "    </tr>\n",
       "    <tr>\n",
       "      <th>3</th>\n",
       "      <td>717</td>\n",
       "      <td>1</td>\n",
       "      <td>15968</td>\n",
       "    </tr>\n",
       "    <tr>\n",
       "      <th>4</th>\n",
       "      <td>706</td>\n",
       "      <td>1</td>\n",
       "      <td>48969</td>\n",
       "    </tr>\n",
       "  </tbody>\n",
       "</table>\n",
       "</div>"
      ],
      "text/plain": [
       "   T_plays  user_id  artist_id\n",
       "0     2137        1      15531\n",
       "1     1099        1      63469\n",
       "2      897        1      46858\n",
       "3      717        1      15968\n",
       "4      706        1      48969"
      ]
     },
     "execution_count": 387,
     "metadata": {},
     "output_type": "execute_result"
    }
   ],
   "source": [
    "# заполняем пустые значения\n",
    "data.fillna(\"None\", inplace=True)\n",
    "# заменим строковые идентификаторы числовыми кодами\n",
    "# добавляем к индексам единицы, потому что в mrec,\n",
    "# который будем использовать для оценки качества, индексы начинаются с единицы\n",
    "data[\"user_id\"] = data[\"user\"].astype(\"category\").cat.codes.copy() + 1\n",
    "data[\"artist_id\"] = data[\"artist-mbid\"].astype(\"category\").cat.codes.copy() + 1\n",
    "# убираем лишние колонки\n",
    "data.drop([\"artist-name\", \"artist-mbid\", \"user\"], axis=1, inplace=True)\n",
    "data.head()"
   ]
  },
  {
   "cell_type": "code",
   "execution_count": 388,
   "metadata": {
    "slideshow": {
     "slide_type": "slide"
    }
   },
   "outputs": [
    {
     "data": {
      "text/html": [
       "<div>\n",
       "<style>\n",
       "    .dataframe thead tr:only-child th {\n",
       "        text-align: right;\n",
       "    }\n",
       "\n",
       "    .dataframe thead th {\n",
       "        text-align: left;\n",
       "    }\n",
       "\n",
       "    .dataframe tbody tr th {\n",
       "        vertical-align: top;\n",
       "    }\n",
       "</style>\n",
       "<table border=\"1\" class=\"dataframe\">\n",
       "  <thead>\n",
       "    <tr style=\"text-align: right;\">\n",
       "      <th></th>\n",
       "      <th>T_plays</th>\n",
       "      <th>user_id</th>\n",
       "      <th>artist_id</th>\n",
       "    </tr>\n",
       "  </thead>\n",
       "  <tbody>\n",
       "    <tr>\n",
       "      <th>count</th>\n",
       "      <td>1000000.000000</td>\n",
       "      <td>1000000.000000</td>\n",
       "      <td>1000000.000000</td>\n",
       "    </tr>\n",
       "    <tr>\n",
       "      <th>mean</th>\n",
       "      <td>216.606950</td>\n",
       "      <td>10232.925996</td>\n",
       "      <td>33678.492236</td>\n",
       "    </tr>\n",
       "    <tr>\n",
       "      <th>std</th>\n",
       "      <td>604.378024</td>\n",
       "      <td>5912.022447</td>\n",
       "      <td>19230.330182</td>\n",
       "    </tr>\n",
       "    <tr>\n",
       "      <th>min</th>\n",
       "      <td>1.000000</td>\n",
       "      <td>1.000000</td>\n",
       "      <td>1.000000</td>\n",
       "    </tr>\n",
       "    <tr>\n",
       "      <th>25%</th>\n",
       "      <td>34.000000</td>\n",
       "      <td>5118.000000</td>\n",
       "      <td>17298.000000</td>\n",
       "    </tr>\n",
       "    <tr>\n",
       "      <th>50%</th>\n",
       "      <td>94.000000</td>\n",
       "      <td>10237.000000</td>\n",
       "      <td>34544.000000</td>\n",
       "    </tr>\n",
       "    <tr>\n",
       "      <th>75%</th>\n",
       "      <td>225.000000</td>\n",
       "      <td>15347.000000</td>\n",
       "      <td>49488.000000</td>\n",
       "    </tr>\n",
       "    <tr>\n",
       "      <th>max</th>\n",
       "      <td>135392.000000</td>\n",
       "      <td>20465.000000</td>\n",
       "      <td>66799.000000</td>\n",
       "    </tr>\n",
       "  </tbody>\n",
       "</table>\n",
       "</div>"
      ],
      "text/plain": [
       "              T_plays         user_id       artist_id\n",
       "count  1000000.000000  1000000.000000  1000000.000000\n",
       "mean       216.606950    10232.925996    33678.492236\n",
       "std        604.378024     5912.022447    19230.330182\n",
       "min          1.000000        1.000000        1.000000\n",
       "25%         34.000000     5118.000000    17298.000000\n",
       "50%         94.000000    10237.000000    34544.000000\n",
       "75%        225.000000    15347.000000    49488.000000\n",
       "max     135392.000000    20465.000000    66799.000000"
      ]
     },
     "execution_count": 388,
     "metadata": {},
     "output_type": "execute_result"
    }
   ],
   "source": [
    "data.describe()"
   ]
  },
  {
   "cell_type": "code",
   "execution_count": 389,
   "metadata": {},
   "outputs": [],
   "source": [
    "data.T_plays = 1+log(data.T_plays) # проведем логарифмирование кол-ва прослушиваний чтобы уменьшить выбросы и прибавим 1 чтобы не получился 0 где у нас одно прослушивание"
   ]
  },
  {
   "cell_type": "code",
   "execution_count": 390,
   "metadata": {},
   "outputs": [
    {
     "data": {
      "text/html": [
       "<div>\n",
       "<style>\n",
       "    .dataframe thead tr:only-child th {\n",
       "        text-align: right;\n",
       "    }\n",
       "\n",
       "    .dataframe thead th {\n",
       "        text-align: left;\n",
       "    }\n",
       "\n",
       "    .dataframe tbody tr th {\n",
       "        vertical-align: top;\n",
       "    }\n",
       "</style>\n",
       "<table border=\"1\" class=\"dataframe\">\n",
       "  <thead>\n",
       "    <tr style=\"text-align: right;\">\n",
       "      <th></th>\n",
       "      <th>T_plays</th>\n",
       "      <th>user_id</th>\n",
       "      <th>artist_id</th>\n",
       "    </tr>\n",
       "  </thead>\n",
       "  <tbody>\n",
       "    <tr>\n",
       "      <th>count</th>\n",
       "      <td>1000000.000000</td>\n",
       "      <td>1000000.000000</td>\n",
       "      <td>1000000.000000</td>\n",
       "    </tr>\n",
       "    <tr>\n",
       "      <th>mean</th>\n",
       "      <td>5.418532</td>\n",
       "      <td>10232.925996</td>\n",
       "      <td>33678.492236</td>\n",
       "    </tr>\n",
       "    <tr>\n",
       "      <th>std</th>\n",
       "      <td>1.472299</td>\n",
       "      <td>5912.022447</td>\n",
       "      <td>19230.330182</td>\n",
       "    </tr>\n",
       "    <tr>\n",
       "      <th>min</th>\n",
       "      <td>1.000000</td>\n",
       "      <td>1.000000</td>\n",
       "      <td>1.000000</td>\n",
       "    </tr>\n",
       "    <tr>\n",
       "      <th>25%</th>\n",
       "      <td>4.526361</td>\n",
       "      <td>5118.000000</td>\n",
       "      <td>17298.000000</td>\n",
       "    </tr>\n",
       "    <tr>\n",
       "      <th>50%</th>\n",
       "      <td>5.543295</td>\n",
       "      <td>10237.000000</td>\n",
       "      <td>34544.000000</td>\n",
       "    </tr>\n",
       "    <tr>\n",
       "      <th>75%</th>\n",
       "      <td>6.416100</td>\n",
       "      <td>15347.000000</td>\n",
       "      <td>49488.000000</td>\n",
       "    </tr>\n",
       "    <tr>\n",
       "      <th>max</th>\n",
       "      <td>12.815930</td>\n",
       "      <td>20465.000000</td>\n",
       "      <td>66799.000000</td>\n",
       "    </tr>\n",
       "  </tbody>\n",
       "</table>\n",
       "</div>"
      ],
      "text/plain": [
       "              T_plays         user_id       artist_id\n",
       "count  1000000.000000  1000000.000000  1000000.000000\n",
       "mean         5.418532    10232.925996    33678.492236\n",
       "std          1.472299     5912.022447    19230.330182\n",
       "min          1.000000        1.000000        1.000000\n",
       "25%          4.526361     5118.000000    17298.000000\n",
       "50%          5.543295    10237.000000    34544.000000\n",
       "75%          6.416100    15347.000000    49488.000000\n",
       "max         12.815930    20465.000000    66799.000000"
      ]
     },
     "execution_count": 390,
     "metadata": {},
     "output_type": "execute_result"
    }
   ],
   "source": [
    "data.describe()"
   ]
  },
  {
   "cell_type": "code",
   "execution_count": null,
   "metadata": {
    "collapsed": true
   },
   "outputs": [],
   "source": []
  },
  {
   "cell_type": "code",
   "execution_count": 391,
   "metadata": {
    "collapsed": true,
    "slideshow": {
     "slide_type": "slide"
    }
   },
   "outputs": [],
   "source": [
    "# разобьём наблюдения на тестовую и обучающую выборки\n",
    "test_indices = np.random.choice(\n",
    "    data.index.values,\n",
    "    replace=False,\n",
    "    size=int(len(data.index.values) * 0.2)\n",
    ")\n",
    "test_data = data.iloc[test_indices]\n",
    "train_data = data.drop(test_indices)"
   ]
  },
  {
   "cell_type": "code",
   "execution_count": 392,
   "metadata": {},
   "outputs": [
    {
     "data": {
      "text/html": [
       "<div>\n",
       "<style>\n",
       "    .dataframe thead tr:only-child th {\n",
       "        text-align: right;\n",
       "    }\n",
       "\n",
       "    .dataframe thead th {\n",
       "        text-align: left;\n",
       "    }\n",
       "\n",
       "    .dataframe tbody tr th {\n",
       "        vertical-align: top;\n",
       "    }\n",
       "</style>\n",
       "<table border=\"1\" class=\"dataframe\">\n",
       "  <thead>\n",
       "    <tr style=\"text-align: right;\">\n",
       "      <th></th>\n",
       "      <th>T_plays</th>\n",
       "      <th>user_id</th>\n",
       "      <th>artist_id</th>\n",
       "    </tr>\n",
       "  </thead>\n",
       "  <tbody>\n",
       "    <tr>\n",
       "      <th>492245</th>\n",
       "      <td>4.401197</td>\n",
       "      <td>10077</td>\n",
       "      <td>16424</td>\n",
       "    </tr>\n",
       "    <tr>\n",
       "      <th>812744</th>\n",
       "      <td>4.931826</td>\n",
       "      <td>16641</td>\n",
       "      <td>43328</td>\n",
       "    </tr>\n",
       "    <tr>\n",
       "      <th>467986</th>\n",
       "      <td>5.499810</td>\n",
       "      <td>9574</td>\n",
       "      <td>15895</td>\n",
       "    </tr>\n",
       "    <tr>\n",
       "      <th>460551</th>\n",
       "      <td>6.834811</td>\n",
       "      <td>9420</td>\n",
       "      <td>36846</td>\n",
       "    </tr>\n",
       "    <tr>\n",
       "      <th>98775</th>\n",
       "      <td>3.302585</td>\n",
       "      <td>2007</td>\n",
       "      <td>50662</td>\n",
       "    </tr>\n",
       "  </tbody>\n",
       "</table>\n",
       "</div>"
      ],
      "text/plain": [
       "         T_plays  user_id  artist_id\n",
       "492245  4.401197    10077      16424\n",
       "812744  4.931826    16641      43328\n",
       "467986  5.499810     9574      15895\n",
       "460551  6.834811     9420      36846\n",
       "98775   3.302585     2007      50662"
      ]
     },
     "execution_count": 392,
     "metadata": {},
     "output_type": "execute_result"
    }
   ],
   "source": [
    "test_data.head()"
   ]
  },
  {
   "cell_type": "code",
   "execution_count": 393,
   "metadata": {
    "slideshow": {
     "slide_type": "slide"
    }
   },
   "outputs": [
    {
     "name": "stdout",
     "output_type": "stream",
     "text": [
      "нет в обучающей выборке, но есть в тестовой: 2\n",
      "нет в тестовой выборке, но есть в обучающей: 23\n",
      "всего пользователей: 20465\n"
     ]
    }
   ],
   "source": [
    "test_user_set = set(test_data[\"user_id\"].unique())\n",
    "train_user_set = set(train_data[\"user_id\"].unique())\n",
    "print(\"нет в обучающей выборке, но есть в тестовой: {}\".format(\n",
    "    len(test_user_set - train_user_set)))\n",
    "print(\"нет в тестовой выборке, но есть в обучающей: {}\".format(\n",
    "    len(train_user_set - test_user_set)))\n",
    "print(\"всего пользователей: {}\".format(len(data[\"user_id\"].unique())))"
   ]
  },
  {
   "cell_type": "code",
   "execution_count": 394,
   "metadata": {
    "slideshow": {
     "slide_type": "slide"
    }
   },
   "outputs": [],
   "source": [
    "# исключим таких пользователей из тестовой и обучающей выборок\n",
    "user_ids_to_exclude = (test_user_set - train_user_set).union(train_user_set - test_user_set)\n",
    "bad_indices = test_data[test_data[\"user_id\"].isin(user_ids_to_exclude).values].index\n",
    "test_data.drop(bad_indices, inplace=True)\n",
    "bad_indices = train_data[train_data[\"user_id\"].isin(user_ids_to_exclude).values]\n",
    "train_data.drop(bad_indices.index, inplace=True)"
   ]
  },
  {
   "cell_type": "code",
   "execution_count": 395,
   "metadata": {
    "collapsed": true,
    "slideshow": {
     "slide_type": "slide"
    }
   },
   "outputs": [],
   "source": [
    "test_file_name = \"lastfm.test.0\"\n",
    "test_data[[\"user_id\", \"artist_id\", \"T_plays\"]].to_csv(\n",
    "    path.join(data_dir, test_file_name),\n",
    "    sep=\"\\t\",\n",
    "    header=False,\n",
    "    index=False\n",
    ")\n",
    "train_file_name = \"lastfm.train.0\"\n",
    "train_data[[\"user_id\", \"artist_id\", \"T_plays\"]].to_csv(\n",
    "    path.join(data_dir, train_file_name),\n",
    "    sep=\"\\t\",\n",
    "    header=False,\n",
    "    index=False\n",
    ")"
   ]
  },
  {
   "cell_type": "code",
   "execution_count": 396,
   "metadata": {
    "collapsed": true,
    "slideshow": {
     "slide_type": "slide"
    }
   },
   "outputs": [],
   "source": [
    "# функция, которая красиво печатает информацию о разреженных матрицах\n",
    "from scipy.sparse import csr_matrix\n",
    "\n",
    "def sparse_info(sparse_matrix: csr_matrix) -> None:\n",
    "    print(\"Размерности матрицы: {}\".format(sparse_matrix.shape))\n",
    "    print(\"Ненулевых элементов в матрице: {}\".format(sparse_matrix.nnz))\n",
    "    print(\"Доля ненулевых элементов: {}\"\n",
    "          .format(sparse_matrix.nnz / sparse_matrix.shape[0] / sparse_matrix.shape[1])\n",
    "    )\n",
    "    print(\"Среднее значение ненулевых элементов: {}\".format(sparse_matrix.data.mean()))\n",
    "    print(\"Максимальное значение ненулевых элементов: {}\".format(sparse_matrix.data.max()))\n",
    "    print(\"Минимальное значение ненулевых элементов: {}\".format(sparse_matrix.data.min()))"
   ]
  },
  {
   "cell_type": "code",
   "execution_count": 397,
   "metadata": {
    "slideshow": {
     "slide_type": "slide"
    }
   },
   "outputs": [
    {
     "name": "stdout",
     "output_type": "stream",
     "text": [
      "Размерности матрицы: (66800, 20466)\n",
      "Ненулевых элементов в матрице: 799844\n",
      "Доля ненулевых элементов: 0.0005850538734901935\n",
      "Среднее значение ненулевых элементов: 5.419256210327148\n",
      "Максимальное значение ненулевых элементов: 14.960376739501953\n",
      "Минимальное значение ненулевых элементов: 1.0\n"
     ]
    }
   ],
   "source": [
    "# создаём разреженную матрицу item*user\n",
    "from scipy.sparse import coo_matrix\n",
    "import numpy as np\n",
    "\n",
    "plays = coo_matrix((\n",
    "    train_data[\"T_plays\"].astype(np.float32),\n",
    "    (\n",
    "        train_data[\"artist_id\"],\n",
    "        train_data[\"user_id\"]\n",
    "    )\n",
    "))\n",
    "\n",
    "sparse_info(plays.tocsr())"
   ]
  },
  {
   "cell_type": "code",
   "execution_count": 398,
   "metadata": {
    "slideshow": {
     "slide_type": "slide"
    }
   },
   "outputs": [
    {
     "name": "stdout",
     "output_type": "stream",
     "text": [
      "строим матрицу схожести по косинусной мере\n",
      "построили матрицу схожести по косинусной мере за 1.597001552581787 секунд\n",
      "Размерности матрицы: (66800, 66800)\n",
      "Ненулевых элементов в матрице: 1217509\n",
      "Доля ненулевых элементов: 0.0002728470454300979\n",
      "Среднее значение ненулевых элементов: 0.4217938860304889\n",
      "Максимальное значение ненулевых элементов: 1.0000000577920343\n",
      "Минимальное значение ненулевых элементов: 0.0\n"
     ]
    }
   ],
   "source": [
    "import time\n",
    "from implicit.nearest_neighbours import CosineRecommender\n",
    "\n",
    "model = CosineRecommender()\n",
    "print(\"строим матрицу схожести по косинусной мере\")\n",
    "start = time.time()\n",
    "model.fit(plays)\n",
    "print(\"построили матрицу схожести по косинусной мере за {} секунд\".format(\n",
    "        time.time() - start))\n",
    "sparse_info(model.similarity)"
   ]
  },
  {
   "cell_type": "code",
   "execution_count": 399,
   "metadata": {
    "slideshow": {
     "slide_type": "slide"
    }
   },
   "outputs": [
    {
     "name": "stdout",
     "output_type": "stream",
     "text": [
      "получаем рекомендации для всех пользователей\n",
      "получили рекомендации для всех пользователей за 32.1083402633667 секнуд\n"
     ]
    }
   ],
   "source": [
    "pre = []\n",
    "print(\"получаем рекомендации для всех пользователей\")\n",
    "start = time.time()\n",
    "user_plays = plays.T.tocsr()\n",
    "for user_id in test_data[\"user_id\"].unique():\n",
    "    for artist_id, score in model.recommend(user_id, user_plays):\n",
    "         pre.append((user_id, artist_id, score))\n",
    "print(\"получили рекомендации для всех пользователей за {} секнуд\".format(\n",
    "        time.time() - start))"
   ]
  },
  {
   "cell_type": "code",
   "execution_count": 400,
   "metadata": {},
   "outputs": [],
   "source": [
    "truth = test_data.sort_values(['user_id'])[['user_id','artist_id', 'T_plays']]"
   ]
  },
  {
   "cell_type": "code",
   "execution_count": 401,
   "metadata": {},
   "outputs": [],
   "source": [
    "pred = pd.DataFrame(pre, columns=[\"user_id\",\"artist_id\",\"plays\"])"
   ]
  },
  {
   "cell_type": "code",
   "execution_count": 402,
   "metadata": {
    "collapsed": true
   },
   "outputs": [],
   "source": [
    "# вычисление mrr predicted - DataFrame('user_id','artist_id', 'plays'), actual - DataFrame('user_id','artist_id', 'total-plays')\n",
    "\n",
    "def mean_rr(predicted, actual):\n",
    "    mrr = 0\n",
    "    \n",
    "    \n",
    "    for x in pred.user_id.unique():\n",
    "        mrr += rr(predicted.artist_id[predicted.user_id == x].tolist(),  actual.artist_id[actual.user_id == x].tolist())\n",
    "    mrr = mrr/ len (pred.user_id.unique())\n",
    "    print(\"mrr=: {}\".format(mrr))\n",
    "    return mrr\n",
    "\n",
    "\n",
    "def rr(predicted, actual):\n",
    "    for i, x in enumerate(predicted):\n",
    "        if x in actual:\n",
    "            return 1.0 / (i + 1)\n",
    "    return 0"
   ]
  },
  {
   "cell_type": "code",
   "execution_count": 403,
   "metadata": {},
   "outputs": [
    {
     "name": "stdout",
     "output_type": "stream",
     "text": [
      "mrr=: 0.3271012720156515\n"
     ]
    },
    {
     "data": {
      "text/plain": [
       "0.3271012720156515"
      ]
     },
     "execution_count": 403,
     "metadata": {},
     "output_type": "execute_result"
    }
   ],
   "source": [
    "mean_rr(pred, truth)"
   ]
  },
  {
   "cell_type": "markdown",
   "metadata": {},
   "source": [
    "### ALS"
   ]
  },
  {
   "cell_type": "code",
   "execution_count": 246,
   "metadata": {
    "collapsed": true
   },
   "outputs": [],
   "source": [
    "import implicit\n",
    "\n"
   ]
  },
  {
   "cell_type": "code",
   "execution_count": 429,
   "metadata": {},
   "outputs": [
    {
     "name": "stderr",
     "output_type": "stream",
     "text": [
      "WARNING:root:OpenBLAS detected. Its highly recommend to set the environment variable 'export OPENBLAS_NUM_THREADS=1' to disable its internal multithreading\n"
     ]
    },
    {
     "name": "stdout",
     "output_type": "stream",
     "text": [
      "строим матрицу схожести по ALS\n",
      "построили матрицу схожести по ALS за 92.80302309989929 секунд\n"
     ]
    }
   ],
   "source": [
    "# train the model on a sparse matrix of item/user/confidence weights\n",
    "import time\n",
    "start = time.time()\n",
    "model = implicit.als.AlternatingLeastSquares(factors=100, iterations=100, regularization=0.1)\n",
    "print(\"строим матрицу схожести по ALS\")\n",
    "model.fit(plays)\n",
    "print(\"построили матрицу схожести по ALS за {} секунд\".format(\n",
    "        time.time() - start))\n"
   ]
  },
  {
   "cell_type": "code",
   "execution_count": 430,
   "metadata": {},
   "outputs": [
    {
     "name": "stdout",
     "output_type": "stream",
     "text": [
      "получаем рекомендации для всех пользователей\n",
      "получили рекомендации для всех пользователей за 72.3310215473175 секнуд\n"
     ]
    }
   ],
   "source": [
    "pre = []\n",
    "print(\"получаем рекомендации для всех пользователей\")\n",
    "start = time.time()\n",
    "user_plays = plays.T.tocsr()\n",
    "for user_id in test_data[\"user_id\"].unique():\n",
    "    for artist_id, score in model.recommend(user_id, user_plays):\n",
    "         pre.append((user_id, artist_id, score))\n",
    "print(\"получили рекомендации для всех пользователей за {} секнуд\".format(\n",
    "        time.time() - start))"
   ]
  },
  {
   "cell_type": "code",
   "execution_count": 431,
   "metadata": {
    "collapsed": true
   },
   "outputs": [],
   "source": [
    "truth = test_data.sort_values(['user_id'])[['user_id','artist_id', 'T_plays']]"
   ]
  },
  {
   "cell_type": "code",
   "execution_count": 432,
   "metadata": {
    "collapsed": true
   },
   "outputs": [],
   "source": [
    "pred = pd.DataFrame(pre, columns=[\"user_id\",\"artist_id\",\"plays\"])"
   ]
  },
  {
   "cell_type": "code",
   "execution_count": 433,
   "metadata": {},
   "outputs": [
    {
     "name": "stdout",
     "output_type": "stream",
     "text": [
      "mrr=: 0.3922793386761025\n"
     ]
    },
    {
     "data": {
      "text/plain": [
       "0.3922793386761025"
      ]
     },
     "execution_count": 433,
     "metadata": {},
     "output_type": "execute_result"
    }
   ],
   "source": [
    "mean_rr(pred, truth)"
   ]
  },
  {
   "cell_type": "markdown",
   "metadata": {},
   "source": [
    "## ALS\n",
    "\n",
    "### Если логорифмировать количество прослушиваний\n",
    "#### factors=100  mrr=: 0.38975258481884956  \n",
    "#### factors=300  mrr=: 0.381210125316545\n",
    "#### factors=50   mrr=: 0.38927901836660767\n",
    "#### iterations=50 factors=100 mrr=: 0.39202213990618423\n",
    "#### factors=100, iterations=50, regularization=0.05   mrr=: 0.39178687913520927\n",
    "#### factors=100, iterations=50, regularization=0.005  mrr=: 0.39023281458701453\n",
    "#### factors=100, iterations=100, regularization=0.001 mrr=: 0.3923675177833614\n",
    "#### factors=100, iterations=100, regularization=0.01  mrr=: 0.39188903643648504\n",
    "#### factors=100, iterations=100, regularization=0.1  mrr=: 0.3922793386761025\n",
    "\n",
    "\n",
    "### и без логарифмирования\n",
    "#### factors=50   mrr=: 0.29545562714096\n",
    "#### actors=100   mrr=: 0.3158930473643789\n",
    "\n",
    "\n",
    "\n",
    "## COS\n",
    "\n",
    "### Если логорифмировать количество прослушиваний\n",
    "#### mrr=: 0.3271012720156515\n",
    "### и без логарифмирования\n",
    "#### mrr=: 0.049374625847012604  совсем грусно :(\n"
   ]
  },
  {
   "cell_type": "code",
   "execution_count": null,
   "metadata": {
    "collapsed": true
   },
   "outputs": [],
   "source": []
  }
 ],
 "metadata": {
  "celltoolbar": "Raw Cell Format",
  "kernelspec": {
   "display_name": "Python 3",
   "language": "python",
   "name": "python3"
  },
  "language_info": {
   "codemirror_mode": {
    "name": "ipython",
    "version": 3
   },
   "file_extension": ".py",
   "mimetype": "text/x-python",
   "name": "python",
   "nbconvert_exporter": "python",
   "pygments_lexer": "ipython3",
   "version": "3.6.2"
  }
 },
 "nbformat": 4,
 "nbformat_minor": 1
}
